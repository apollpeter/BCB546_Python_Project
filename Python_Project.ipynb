{
 "cells": [
  {
   "cell_type": "markdown",
   "metadata": {},
   "source": [
    "# BCB546X Python Project\n",
    "## Amy Pollpeter"
   ]
  },
  {
   "cell_type": "markdown",
   "metadata": {},
   "source": [
    "### Project Purpose:\n",
    "The purpose of this project is to Document Dr. X's functions from the sequence_translate.py script as well as complete portions of the script that needed completion.  This project will use files obtained from the github repository that this script is contained in as well as the assignments portion of the repository for the Iowa State BCB/EEOB546X Class.\n",
    "\n",
    "Each section will be numbered according to the function request from Dr. X."
   ]
  },
  {
   "cell_type": "markdown",
   "metadata": {},
   "source": [
    "### Load required packages\n",
    "This project will require biopython.  If it is not already installed, it will need to be installed on your computer.\n",
    "Specific portion of the biopython program will be imported for the functions needed in this script.\n",
    "If Biopython is not already installed, due so in your terminal using the following command:\n",
    "$ pip install biopython"
   ]
  },
  {
   "cell_type": "code",
   "execution_count": 1,
   "metadata": {},
   "outputs": [],
   "source": [
    "from Bio import SeqIO\n",
    "from Bio.Data import CodonTable\n",
    "import pandas as pd"
   ]
  },
  {
   "cell_type": "markdown",
   "metadata": {},
   "source": [
    "### 1. Obtain Sequence Function\n",
    "#### Purpose:\n",
    "The purpose of this function is to obtain a sequence from a file.\n",
    "##### Input:\n",
    "The input for this function will be the name of a fasta file in quotes.  Example: \"penguins_cytb.fasta\".\n",
    "##### Arguments:\n",
    "The input file is the only argument for this function.\n",
    "##### Output:\n",
    "The function will return a sequence data dictionary for the file chosen."
   ]
  },
  {
   "cell_type": "code",
   "execution_count": 2,
   "metadata": {},
   "outputs": [],
   "source": [
    "def get_sequences_from_file(fasta_fn):\n",
    "    sequence_data_dict = {} #Start by defining an empty data dictionary.\n",
    "    for record in SeqIO.parse(fasta_fn, \"fasta\"): # Use a loop to fill in the data dictionary from the file.\n",
    "        description = record.description.split()\n",
    "        species_name = description[1] + \" \" + description[2]\n",
    "        sequence_data_dict[species_name] = record.seq\n",
    "    return(sequence_data_dict)"
   ]
  },
  {
   "cell_type": "code",
   "execution_count": 3,
   "metadata": {
    "scrolled": true
   },
   "outputs": [
    {
     "data": {
      "text/plain": [
       "{'Aptenodytes forsteri': Seq('ATGGCCCCAAATCTCCGAAAATCCCATCCCCTCCTAAAAATAATTAATAACTCC...TAA', SingleLetterAlphabet()),\n",
       " 'Aptenodytes patagonicus': Seq('ATGGCCCCAAACCTCCGAAAATCCCATCCTCTCCTAAAAATAATTAATAACTCC...TAA', SingleLetterAlphabet()),\n",
       " 'Eudyptes chrysocome': Seq('ATGGCCCCCAACCTCCGAAAATCCCACCCCCTCCTAAAAACAATCAATAACTCC...TAA', SingleLetterAlphabet()),\n",
       " 'Eudyptes chrysolophus': Seq('ATGGCCCCCAACCTCCGAAAATCCCACCCCCTCCTAAAAACAATCAATAACTCC...TAA', SingleLetterAlphabet()),\n",
       " 'Eudyptes sclateri': Seq('ATGGCCCCCAACCTCCGAAAATCCCACCCCCTCCTAAAAACAATCAATAACTCC...TAA', SingleLetterAlphabet()),\n",
       " 'Eudyptula minor': Seq('ATGGCCCCCAACCTCCGAAAATCTCACCCCCTCCTAAAAATAATCAACAACTCT...TAA', SingleLetterAlphabet()),\n",
       " 'Pygoscelis adeliae': Seq('ATGGCCCCCAACCTCCGAAAATCCCACCCTCTCCTAAAAATAATTAACAACTCC...TAA', SingleLetterAlphabet()),\n",
       " 'Pygoscelis antarctica': Seq('ATGGCCCCCAACCTCCGAAAATCCCACCCTCTCCTAAAAATAATCAACAACTCC...TAG', SingleLetterAlphabet()),\n",
       " 'Pygoscelis papua': Seq('ATGGCCCCCAACCTTCGAAAATCCCACCCTCTCCTAAAAATAATCAACAAATCC...TAG', SingleLetterAlphabet()),\n",
       " 'Spheniscus demersus': Seq('ATGGCCCCCAACCTCCGAAAATCCCACCCTCTCCTAAAAACAATCAACAACTCC...TAA', SingleLetterAlphabet()),\n",
       " 'Spheniscus humboldti': Seq('ATGGCCCCCAACCTCCGAAAATCCCACCCTCTCCTAAAAACAATCAACAACTCC...TAA', SingleLetterAlphabet()),\n",
       " 'Spheniscus magellanicus': Seq('ATGGCCCCCAACCTCCGAAAATCCCACCCTCTCCTAAAAACAATCAACAACTCC...TAA', SingleLetterAlphabet())}"
      ]
     },
     "execution_count": 3,
     "metadata": {},
     "output_type": "execute_result"
    }
   ],
   "source": [
    "# Example of using this function to show the output.\n",
    "get_sequences_from_file(\"penguins_cytb.fasta\")"
   ]
  },
  {
   "cell_type": "markdown",
   "metadata": {},
   "source": [
    "### 2. Nucleotide Translate Function\n",
    "#### Purpose: \n",
    "The purpose of this function is to translate a string of nucleotides to a string of amino acids.\n",
    "##### Input: \n",
    "The input for this function will be a string of nucleotides and a sring listing the name of the codon table you would like to use for the translation.  A listing of the codon tables can be found at https://www.ncbi.nlm.nih.gov/Taxonomy/Utils/wprintgc.cgi.\n",
    "##### Arguments:\n",
    "The string of nucleotides and the specified table will be the arguments for this function.\n",
    "##### Output:\n",
    "This function will return a string of amino acids using the single letter amino acid alphabet."
   ]
  },
  {
   "cell_type": "code",
   "execution_count": 4,
   "metadata": {},
   "outputs": [],
   "source": [
    "def nucl_translate_function(string_nucleotides, Codon_Table): #By specifying the table in the argument, this allows this\n",
    "    # function to be used on any nucleotide string with any of the existing codon tables.\n",
    "    table = CodonTable.unambiguous_dna_by_name[Codon_Table]\n",
    "    aa_string = \"\" #start by creating an empty amino acid string\n",
    "    for nucl in range(0,int(len(string_nucleotides)/3)):\n",
    "        codon = string_nucleotides[3*nucl:3*nucl+3]\n",
    "        if codon in [\"TAG\",\"TAA\", \"AGG\", \"AGA\"]: #Telling the code to stop if it ecounters a stop codon.\n",
    "            return aa_string\n",
    "        table.forward_table[codon] #Translating each codon to the accompanying amino acid.\n",
    "        aa_string = aa_string + table.forward_table[codon] # Adding each new codon to the amino acid string.\n",
    "    return aa_string"
   ]
  },
  {
   "cell_type": "code",
   "execution_count": 5,
   "metadata": {},
   "outputs": [
    {
     "name": "stdout",
     "output_type": "stream",
     "text": [
      "MAPNLRKSHPLLKMINNS\n",
      "MAPNLRKSHPLLKMINNS\n"
     ]
    }
   ],
   "source": [
    "#Checking to see if the function works correctly using both a sring of nucleotides, and a sequence saved to a variable.\n",
    "print(nucl_translate_function(\"ATGGCCCCAAATCTCCGAAAATCCCATCCCCTCCTAAAAATAATTAATAACTCC\", \"Vertebrate Mitochondrial\"))\n",
    "AF_seq_part = Af_seq_part = \"ATGGCCCCAAATCTCCGAAAATCCCATCCCCTCCTAAAAATAATTAATAACTCC\" \n",
    "print(nucl_translate_function(AF_seq_part, \"Vertebrate Mitochondrial\"))"
   ]
  },
  {
   "cell_type": "markdown",
   "metadata": {},
   "source": [
    "### 3. Alternative Translate Function\n",
    "#### Purpose:\n",
    "There is a more eficient way to write the Translate function using an existing function (translate) in the biopython library.\n",
    "This function ustilizes that existing biopython function.\n",
    "##### Input:\n",
    "The input for this function will be a string of nucleotides, just as in the Nucleotide Translate Function.\n",
    "##### Arguments:\n",
    "In addition to the nucleotide sequence, this function will need two additional arguments:  \n",
    "alphabet: The alphabet that is being used for the nucleotide string (generic_dna, RNAAlphabet, or DNAAlphabet).\n",
    "Either a string specifying the NCBI table (i.e. \"Standard\", \"Vertebrate Mitochondrial\", \"Bacterial\") or an integer specifying the NCBI table by number.  The full list of available options can be found at the following website: https://www.ncbi.nlm.nih.gov/Taxonomy/Utils/wprintgc.cgi.\n",
    "##### Output:\n",
    "This funtion returns a string of amino acids symbolized by a single letter followed by a comma and the alphabet used for the string.  If a stop codon is present translation will stop at that codon and will not return anything further in the sequence."
   ]
  },
  {
   "cell_type": "code",
   "execution_count": 6,
   "metadata": {},
   "outputs": [],
   "source": [
    "from Bio.Seq import Seq\n",
    "from Bio.Alphabet import generic_dna\n",
    "def alt_translate_function(string_nucleotides, alphabet, table):\n",
    "    coding_seq = Seq(string_nucleotides, alphabet)\n",
    "    aa_string = coding_seq.translate(table = table, to_stop=True)\n",
    "    return str(aa_string)"
   ]
  },
  {
   "cell_type": "code",
   "execution_count": 7,
   "metadata": {},
   "outputs": [
    {
     "name": "stdout",
     "output_type": "stream",
     "text": [
      "MAPNLRKSHPLLKMINNS\n",
      "MAPNLRKSHPLLKMINNS\n"
     ]
    }
   ],
   "source": [
    "# Check to see if the function works on both our sequence saved to a variable name and a string of nucleotiedes.\n",
    "print(alt_translate_function(\"ATGGCCCCAAATCTCCGAAAATCCCATCCCCTCCTAAAAATAATTAATAACTCC\", generic_dna, 2))\n",
    "print(alt_translate_function(Af_seq_part, generic_dna, 2))"
   ]
  },
  {
   "cell_type": "markdown",
   "metadata": {},
   "source": [
    "### 4. Amino Acid Count Analysis Function\n",
    "#### Purpose:\n",
    "This function will calculate the weight of an amino acid sequence.\n",
    "##### Input:\n",
    "The input for this function will be a string of single letters symbolizing the amino acid.\n",
    "##### Arguments:\n",
    "##### Output:\n",
    "The output for this function will be a integer stating the molecular weight of the amino acid sequence."
   ]
  },
  {
   "cell_type": "code",
   "execution_count": 8,
   "metadata": {},
   "outputs": [],
   "source": [
    "from Bio.SeqUtils.ProtParam import ProteinAnalysis\n",
    "def compute_molecular_wt(aa_string):\n",
    "    analyzed_seq = ProteinAnalysis(aa_string)\n",
    "    mol_weight = analyzed_seq.molecular_weight()\n",
    "    return mol_weight"
   ]
  },
  {
   "cell_type": "code",
   "execution_count": 9,
   "metadata": {},
   "outputs": [
    {
     "data": {
      "text/plain": [
       "4783.6891"
      ]
     },
     "execution_count": 9,
     "metadata": {},
     "output_type": "execute_result"
    }
   ],
   "source": [
    "#Testing the function using our sequence from above.\n",
    "compute_molecular_wt(Af_seq_part)"
   ]
  },
  {
   "cell_type": "markdown",
   "metadata": {},
   "source": [
    "### 5. Sequence GC Content Analysis Function\n",
    "#### Purpose:\n",
    "The purpose of this function is to calculate the GC Content (proportion of G and C in each DNA sequence) and returns the value.\n",
    "##### Input:\n",
    "The input for this function will be a DNA sequence as a string of nucleotides.\n",
    "##### Arguments:\n",
    "The only argument for this function is the DNA sequence as a string.\n",
    "##### Output:\n",
    "The output for this function will be an integer stating the GC content as a percentage."
   ]
  },
  {
   "cell_type": "code",
   "execution_count": 10,
   "metadata": {},
   "outputs": [],
   "source": [
    "from Bio.SeqUtils import GC\n",
    "def GC_content(string_nucleotides):\n",
    "    return GC(string_nucleotides)\n",
    "    "
   ]
  },
  {
   "cell_type": "code",
   "execution_count": 11,
   "metadata": {},
   "outputs": [
    {
     "name": "stdout",
     "output_type": "stream",
     "text": [
      "40.74074074074074\n",
      "40.74074074074074\n"
     ]
    }
   ],
   "source": [
    "print(GC_content(\"ATGGCCCCAAATCTCCGAAAATCCCATCCCCTCCTAAAAATAATTAATAACTCC\"))\n",
    "print(GC_content(AF_seq_part))"
   ]
  },
  {
   "cell_type": "markdown",
   "metadata": {},
   "source": [
    "### A Note about the GC Content Analysis Function:\n",
    "This function is really just renaming an already existing function within the Biopython package SeqUtils.  As you can see in the code above, the code is simply giving a new name to call the Biopython function.  A simpler way to perform this is to use the Biopython function already created (why reinvent the wheel!).  To do this, you would simply use the function GC(string_nucleotides).  In the block below, you will see that I have used called the exact same commands as I did to show the created GC function, however, I have replaced the created GC function (GC_content) with the existing one (GC)."
   ]
  },
  {
   "cell_type": "code",
   "execution_count": 12,
   "metadata": {},
   "outputs": [
    {
     "name": "stdout",
     "output_type": "stream",
     "text": [
      "40.74074074074074\n",
      "40.74074074074074\n"
     ]
    }
   ],
   "source": [
    "print(GC(\"ATGGCCCCAAATCTCCGAAAATCCCATCCCCTCCTAAAAATAATTAATAACTCC\"))\n",
    "print(GC(AF_seq_part))"
   ]
  },
  {
   "cell_type": "markdown",
   "metadata": {},
   "source": [
    "### 6. Add two new columns to Penguins Dataframe\n",
    "#### Purpose:\n",
    "The purpose of this code wil be to add to addtional columns to the penquins dataframe to report the molecular weight and GC Content.  Currently the dataframe only reports the mass."
   ]
  },
  {
   "cell_type": "code",
   "execution_count": 13,
   "metadata": {
    "scrolled": true
   },
   "outputs": [
    {
     "data": {
      "text/html": [
       "<div>\n",
       "<style scoped>\n",
       "    .dataframe tbody tr th:only-of-type {\n",
       "        vertical-align: middle;\n",
       "    }\n",
       "\n",
       "    .dataframe tbody tr th {\n",
       "        vertical-align: top;\n",
       "    }\n",
       "\n",
       "    .dataframe thead th {\n",
       "        text-align: right;\n",
       "    }\n",
       "</style>\n",
       "<table border=\"1\" class=\"dataframe\">\n",
       "  <thead>\n",
       "    <tr style=\"text-align: right;\">\n",
       "      <th></th>\n",
       "      <th>species</th>\n",
       "      <th>mass</th>\n",
       "    </tr>\n",
       "  </thead>\n",
       "  <tbody>\n",
       "    <tr>\n",
       "      <th>0</th>\n",
       "      <td>Aptenodytes forsteri</td>\n",
       "      <td>28.00</td>\n",
       "    </tr>\n",
       "    <tr>\n",
       "      <th>1</th>\n",
       "      <td>Aptenodytes patagonicus</td>\n",
       "      <td>13.40</td>\n",
       "    </tr>\n",
       "    <tr>\n",
       "      <th>2</th>\n",
       "      <td>Eudyptes chrysocome</td>\n",
       "      <td>2.80</td>\n",
       "    </tr>\n",
       "    <tr>\n",
       "      <th>3</th>\n",
       "      <td>Eudyptes chrysolophus</td>\n",
       "      <td>4.50</td>\n",
       "    </tr>\n",
       "    <tr>\n",
       "      <th>4</th>\n",
       "      <td>Eudyptes sclateri</td>\n",
       "      <td>4.25</td>\n",
       "    </tr>\n",
       "    <tr>\n",
       "      <th>5</th>\n",
       "      <td>Eudyptula minor</td>\n",
       "      <td>1.60</td>\n",
       "    </tr>\n",
       "    <tr>\n",
       "      <th>6</th>\n",
       "      <td>Pygoscelis adeliae</td>\n",
       "      <td>4.60</td>\n",
       "    </tr>\n",
       "    <tr>\n",
       "      <th>7</th>\n",
       "      <td>Pygoscelis antarctica</td>\n",
       "      <td>4.10</td>\n",
       "    </tr>\n",
       "    <tr>\n",
       "      <th>8</th>\n",
       "      <td>Pygoscelis papua</td>\n",
       "      <td>6.10</td>\n",
       "    </tr>\n",
       "    <tr>\n",
       "      <th>9</th>\n",
       "      <td>Spheniscus demersus</td>\n",
       "      <td>3.20</td>\n",
       "    </tr>\n",
       "    <tr>\n",
       "      <th>10</th>\n",
       "      <td>Spheniscus humboldti</td>\n",
       "      <td>4.75</td>\n",
       "    </tr>\n",
       "    <tr>\n",
       "      <th>11</th>\n",
       "      <td>Spheniscus magellanicus</td>\n",
       "      <td>3.40</td>\n",
       "    </tr>\n",
       "  </tbody>\n",
       "</table>\n",
       "</div>"
      ],
      "text/plain": [
       "                    species   mass\n",
       "0      Aptenodytes forsteri  28.00\n",
       "1   Aptenodytes patagonicus  13.40\n",
       "2       Eudyptes chrysocome   2.80\n",
       "3     Eudyptes chrysolophus   4.50\n",
       "4         Eudyptes sclateri   4.25\n",
       "5           Eudyptula minor   1.60\n",
       "6        Pygoscelis adeliae   4.60\n",
       "7     Pygoscelis antarctica   4.10\n",
       "8          Pygoscelis papua   6.10\n",
       "9       Spheniscus demersus   3.20\n",
       "10     Spheniscus humboldti   4.75\n",
       "11  Spheniscus magellanicus   3.40"
      ]
     },
     "execution_count": 13,
     "metadata": {},
     "output_type": "execute_result"
    }
   ],
   "source": [
    "#Start by reading in the dataframe\n",
    "penguins_Cytb_df = pd.read_csv(\"penguins_mass.csv\")\n",
    "penguins_Cytb_df #Examine the Dataframe to see what it currently contains."
   ]
  },
  {
   "cell_type": "code",
   "execution_count": 14,
   "metadata": {},
   "outputs": [
    {
     "data": {
      "text/html": [
       "<div>\n",
       "<style scoped>\n",
       "    .dataframe tbody tr th:only-of-type {\n",
       "        vertical-align: middle;\n",
       "    }\n",
       "\n",
       "    .dataframe tbody tr th {\n",
       "        vertical-align: top;\n",
       "    }\n",
       "\n",
       "    .dataframe thead th {\n",
       "        text-align: right;\n",
       "    }\n",
       "</style>\n",
       "<table border=\"1\" class=\"dataframe\">\n",
       "  <thead>\n",
       "    <tr style=\"text-align: right;\">\n",
       "      <th></th>\n",
       "      <th>species</th>\n",
       "      <th>mass</th>\n",
       "      <th>Mol_Weight</th>\n",
       "      <th>GC_Content</th>\n",
       "    </tr>\n",
       "  </thead>\n",
       "  <tbody>\n",
       "    <tr>\n",
       "      <th>0</th>\n",
       "      <td>Aptenodytes forsteri</td>\n",
       "      <td>28.00</td>\n",
       "      <td></td>\n",
       "      <td></td>\n",
       "    </tr>\n",
       "    <tr>\n",
       "      <th>1</th>\n",
       "      <td>Aptenodytes patagonicus</td>\n",
       "      <td>13.40</td>\n",
       "      <td></td>\n",
       "      <td></td>\n",
       "    </tr>\n",
       "    <tr>\n",
       "      <th>2</th>\n",
       "      <td>Eudyptes chrysocome</td>\n",
       "      <td>2.80</td>\n",
       "      <td></td>\n",
       "      <td></td>\n",
       "    </tr>\n",
       "    <tr>\n",
       "      <th>3</th>\n",
       "      <td>Eudyptes chrysolophus</td>\n",
       "      <td>4.50</td>\n",
       "      <td></td>\n",
       "      <td></td>\n",
       "    </tr>\n",
       "    <tr>\n",
       "      <th>4</th>\n",
       "      <td>Eudyptes sclateri</td>\n",
       "      <td>4.25</td>\n",
       "      <td></td>\n",
       "      <td></td>\n",
       "    </tr>\n",
       "    <tr>\n",
       "      <th>5</th>\n",
       "      <td>Eudyptula minor</td>\n",
       "      <td>1.60</td>\n",
       "      <td></td>\n",
       "      <td></td>\n",
       "    </tr>\n",
       "    <tr>\n",
       "      <th>6</th>\n",
       "      <td>Pygoscelis adeliae</td>\n",
       "      <td>4.60</td>\n",
       "      <td></td>\n",
       "      <td></td>\n",
       "    </tr>\n",
       "    <tr>\n",
       "      <th>7</th>\n",
       "      <td>Pygoscelis antarctica</td>\n",
       "      <td>4.10</td>\n",
       "      <td></td>\n",
       "      <td></td>\n",
       "    </tr>\n",
       "    <tr>\n",
       "      <th>8</th>\n",
       "      <td>Pygoscelis papua</td>\n",
       "      <td>6.10</td>\n",
       "      <td></td>\n",
       "      <td></td>\n",
       "    </tr>\n",
       "    <tr>\n",
       "      <th>9</th>\n",
       "      <td>Spheniscus demersus</td>\n",
       "      <td>3.20</td>\n",
       "      <td></td>\n",
       "      <td></td>\n",
       "    </tr>\n",
       "    <tr>\n",
       "      <th>10</th>\n",
       "      <td>Spheniscus humboldti</td>\n",
       "      <td>4.75</td>\n",
       "      <td></td>\n",
       "      <td></td>\n",
       "    </tr>\n",
       "    <tr>\n",
       "      <th>11</th>\n",
       "      <td>Spheniscus magellanicus</td>\n",
       "      <td>3.40</td>\n",
       "      <td></td>\n",
       "      <td></td>\n",
       "    </tr>\n",
       "  </tbody>\n",
       "</table>\n",
       "</div>"
      ],
      "text/plain": [
       "                    species   mass Mol_Weight GC_Content\n",
       "0      Aptenodytes forsteri  28.00                      \n",
       "1   Aptenodytes patagonicus  13.40                      \n",
       "2       Eudyptes chrysocome   2.80                      \n",
       "3     Eudyptes chrysolophus   4.50                      \n",
       "4         Eudyptes sclateri   4.25                      \n",
       "5           Eudyptula minor   1.60                      \n",
       "6        Pygoscelis adeliae   4.60                      \n",
       "7     Pygoscelis antarctica   4.10                      \n",
       "8          Pygoscelis papua   6.10                      \n",
       "9       Spheniscus demersus   3.20                      \n",
       "10     Spheniscus humboldti   4.75                      \n",
       "11  Spheniscus magellanicus   3.40                      "
      ]
     },
     "execution_count": 14,
     "metadata": {},
     "output_type": "execute_result"
    }
   ],
   "source": [
    "penguins_Cytb_df['Mol_Weight'] = '' # Adding an empty column for Molecular Weight\n",
    "penguins_Cytb_df['GC_Content'] = '' # Adding an empty column for GC Content\n",
    "penguins_Cytb_df"
   ]
  },
  {
   "cell_type": "markdown",
   "metadata": {},
   "source": [
    "### 7. Write a For-Loop to translate each sequence and obtain the molecular weight and GC Content and add data to dataframe.\n",
    "#### Purpose:\n",
    "The purpose of this function will be the main method of the script.  It will import the sequences from the file, translate them to amino acid sequences, computer the molecular weight of the amino acid sequence, calculate the GC content of the DNA sequence, add create a dataframe containing the species name, the mass, the molecular weight and the GC content for the CytB seequence for each species.\n",
    "##### Input: \n",
    "The input for this function will a fasta formatted file containing the sequences we want to analyze.\n",
    "##### Arguments: \n",
    "Other arguments for this function will be the type of alphabet needed for the sequences and the type of translation table needed to translate the sequences.\n",
    "##### Output:\n",
    "The output of this sequence will be a data frame containing the species name and its associated mass, the molecular weight of the Cytb amino acid sequence and the GC content of the CytB DNA sequence. "
   ]
  },
  {
   "cell_type": "code",
   "execution_count": 15,
   "metadata": {},
   "outputs": [],
   "source": [
    "cytb_seqs = get_sequences_from_file(\"penguins_Cytb.fasta\") "
   ]
  },
  {
   "cell_type": "code",
   "execution_count": 16,
   "metadata": {
    "scrolled": true
   },
   "outputs": [
    {
     "name": "stdout",
     "output_type": "stream",
     "text": [
      "                    species   mass Mol_Weight GC_Content\n",
      "0      Aptenodytes forsteri  28.00    42459.6    48.3815\n",
      "1   Aptenodytes patagonicus  13.40    42563.7    49.6938\n",
      "2       Eudyptes chrysocome   2.80    42475.6    51.1811\n",
      "3     Eudyptes chrysolophus   4.50    42445.5    50.9186\n",
      "4         Eudyptes sclateri   4.25    42475.6    50.8311\n",
      "5           Eudyptula minor   1.60    42491.6    49.2563\n",
      "6        Pygoscelis adeliae   4.60    42458.6    49.0814\n",
      "7     Pygoscelis antarctica   4.10    42404.5     47.769\n",
      "8          Pygoscelis papua   6.10    42595.9    47.1566\n",
      "9       Spheniscus demersus   3.20    42431.5     48.294\n",
      "10     Spheniscus humboldti   4.75    42399.6    49.2563\n",
      "11  Spheniscus magellanicus   3.40    42459.6    48.2065\n"
     ]
    }
   ],
   "source": [
    "from Bio.SeqUtils import GC\n",
    "for i, value in cytb_seqs.items(): \n",
    "    penguins_seq = str(cytb_seqs[i])\n",
    "    aa_seq = alt_translate_function(penguins_seq, generic_dna, 2)\n",
    "    mol_wt = compute_molecular_wt(aa_seq)\n",
    "    penguins_Cytb_df.loc[penguins_Cytb_df.species == i,'Mol_Weight'] = mol_wt\n",
    "    GC_cont = GC(penguins_seq)\n",
    "    penguins_Cytb_df.loc[penguins_Cytb_df.species == i,'GC_Content'] = GC_cont\n",
    "print(penguins_Cytb_df)\n",
    "    \n"
   ]
  },
  {
   "cell_type": "markdown",
   "metadata": {},
   "source": [
    "### 8. Bar Chart of Mass vs. Species Name\n",
    "For visualizing data, if you have not already installed the Seaborn program, you will need to do this first using:\n",
    "conda install seaborn."
   ]
  },
  {
   "cell_type": "code",
   "execution_count": 17,
   "metadata": {},
   "outputs": [],
   "source": [
    "import seaborn as sns\n",
    "import matplotlib.pyplot as plt"
   ]
  },
  {
   "cell_type": "code",
   "execution_count": 18,
   "metadata": {},
   "outputs": [],
   "source": [
    "%matplotlib inline"
   ]
  },
  {
   "cell_type": "code",
   "execution_count": 19,
   "metadata": {},
   "outputs": [
    {
     "data": {
      "text/plain": [
       "[Text(0, 0, 'Aptenodytes forsteri'),\n",
       " Text(0, 0, 'Aptenodytes patagonicus'),\n",
       " Text(0, 0, 'Eudyptes chrysocome'),\n",
       " Text(0, 0, 'Eudyptes chrysolophus'),\n",
       " Text(0, 0, 'Eudyptes sclateri'),\n",
       " Text(0, 0, 'Eudyptula minor'),\n",
       " Text(0, 0, 'Pygoscelis adeliae'),\n",
       " Text(0, 0, 'Pygoscelis antarctica'),\n",
       " Text(0, 0, 'Pygoscelis papua'),\n",
       " Text(0, 0, 'Spheniscus demersus'),\n",
       " Text(0, 0, 'Spheniscus humboldti'),\n",
       " Text(0, 0, 'Spheniscus magellanicus')]"
      ]
     },
     "execution_count": 19,
     "metadata": {},
     "output_type": "execute_result"
    },
    {
     "data": {
      "image/png": "[encoded data removed]",
      "text/plain": [
       "<Figure size 432x288 with 1 Axes>"
      ]
     },
     "metadata": {
      "needs_background": "light"
     },
     "output_type": "display_data"
    }
   ],
   "source": [
    "# Dr X's request was to plot a bar-chart of the mass with the x-axes labeled with species names.\n",
    "species_mass = sns.barplot(x = \"species\", y = \"mass\", data = penguins_Cytb_df)\n",
    "species_mass.set_xticklabels(species_mass.get_xticklabels(), rotation = 45, horizontalalignment = 'right')"
   ]
  },
  {
   "cell_type": "markdown",
   "metadata": {},
   "source": [
    "While this plot works, it may work even better to flip the axes so the mass is along the x-axis.  This also will eliminate the need to rotate our x-axis labels."
   ]
  },
  {
   "cell_type": "code",
   "execution_count": 20,
   "metadata": {},
   "outputs": [
    {
     "data": {
      "text/plain": [
       "<matplotlib.axes._subplots.AxesSubplot at 0x13678411ef0>"
      ]
     },
     "execution_count": 20,
     "metadata": {},
     "output_type": "execute_result"
    },
    {
     "data": {
      "image/png": "[encoded data removed]",
      "text/plain": [
       "<Figure size 432x288 with 1 Axes>"
      ]
     },
     "metadata": {
      "needs_background": "light"
     },
     "output_type": "display_data"
    }
   ],
   "source": [
    "sns.barplot(x = \"mass\", y = \"species\", data = penguins_Cytb_df)"
   ]
  },
  {
   "cell_type": "markdown",
   "metadata": {},
   "source": [
    "### Questions:\n",
    "#### *Q1* What is the smallest penguin species? \n",
    "The smallest penguin species is Eudyptula minor.\n",
    "#### *Q2* What else is interesting about this species?\n",
    "I don't see anything else interesting about this species on this graph.  A quick google search and look at the Wikipedia page for this species reveals that their common name is appropriately \"Little Penguin.\"  In addition, in Australia, they are referred to as \"Fairy Penguins\".  https://en.wikipedia.org/wiki/Little_penguin"
   ]
  },
  {
   "cell_type": "markdown",
   "metadata": {},
   "source": [
    "### 9. Plot molecular weight vs. GC Content\n"
   ]
  },
  {
   "cell_type": "code",
   "execution_count": 21,
   "metadata": {},
   "outputs": [
    {
     "data": {
      "text/plain": [
       "<matplotlib.legend.Legend at 0x136784e4ac8>"
      ]
     },
     "execution_count": 21,
     "metadata": {},
     "output_type": "execute_result"
    },
    {
     "data": {
      "image/png": "[encoded data removed]",
      "text/plain": [
       "<Figure size 432x288 with 1 Axes>"
      ]
     },
     "metadata": {
      "needs_background": "light"
     },
     "output_type": "display_data"
    }
   ],
   "source": [
    "molwt_gc = sns.scatterplot(x= \"GC_Content\", y = \"Mol_Weight\", data = penguins_Cytb_df, hue = \"species\")\n",
    "molwt_gc.legend(bbox_to_anchor=(1.05, 1), loc=2, borderaxespad=0.) # Originally the legend covered up most of the figure, \n",
    "# I found this line of code on Stack Overflow to move the legend outside of the figure.  \n",
    "# https://stackoverflow.com/questions/27019079/move-seaborn-plot-legend-to-a-different-position"
   ]
  },
  {
   "cell_type": "markdown",
   "metadata": {},
   "source": [
    "### 10. Save dataframe as a new file\n"
   ]
  },
  {
   "cell_type": "code",
   "execution_count": 22,
   "metadata": {},
   "outputs": [],
   "source": [
    "penguins_Cytb_df.to_csv(\"penguins_mass_cytb.csv\")"
   ]
  },
  {
   "cell_type": "markdown",
   "metadata": {},
   "source": [
    "### 11. Bonus:\n",
    "#### What else can we do with this dataset in Python? \n",
    "There are many things we can do with this dataset in Python.  Obviously, we can visualize the data in many different ways (see below for a few examples).  In addition, using Biopython, we can compare sequences to each other to look for similarities or differences.  In this case, since these are all sequences for CytB in the same type of animal (penguins) we would expect them to be fairly similar, so we would probably want to look for differences.\n",
    "#### Add functions or anything that might be interesting and fun. (optional)\n",
    "Below, you will see a few different options for visualizations of the data."
   ]
  },
  {
   "cell_type": "markdown",
   "metadata": {},
   "source": [
    "#### Molecular Weight vs GC Content, with species and mass indications."
   ]
  },
  {
   "cell_type": "code",
   "execution_count": 23,
   "metadata": {},
   "outputs": [
    {
     "data": {
      "text/plain": [
       "<matplotlib.legend.Legend at 0x13675dfcc88>"
      ]
     },
     "execution_count": 23,
     "metadata": {},
     "output_type": "execute_result"
    },
    {
     "data": {
      "image/png": "[encoded data removed]",
      "text/plain": [
       "<Figure size 432x288 with 1 Axes>"
      ]
     },
     "metadata": {
      "needs_background": "light"
     },
     "output_type": "display_data"
    }
   ],
   "source": [
    "### Recreating the Molecular Weight vs GC Content, but adding in Mass denoted by the size of the dot.\n",
    "molwt_gc = sns.scatterplot(x= \"GC_Content\", y = \"Mol_Weight\", data = penguins_Cytb_df, hue = \"species\", size = \"mass\")\n",
    "molwt_gc.legend(bbox_to_anchor=(1.05, 1), loc=2, borderaxespad=0.)"
   ]
  },
  {
   "cell_type": "markdown",
   "metadata": {},
   "source": [
    "#### An example of using BIopython for sequence alignment\n",
    "The code below shows an example of using biopython to compare sequences.  As you can see, this produces a pretty large output with sequences of the length that we have in the CytB file.  There are other alignment programs that may be able to show this better, but this is an example of what can be done.\n",
    "\n",
    "More information about this module can be found on the biopython tutorial webpage found here:\n",
    "https://www.tutorialspoint.com/biopython/biopython_sequence_alignments.htm"
   ]
  },
  {
   "cell_type": "code",
   "execution_count": 24,
   "metadata": {},
   "outputs": [
    {
     "name": "stdout",
     "output_type": "stream",
     "text": [
      "ATGGCCCCA-AATC-TCCGAA\n",
      "||||||||  || | ||||||\n",
      "ATGGCCCC-CAA-CCTCCGAA\n",
      "  Score=17\n",
      "\n",
      "ATGGCCCCAAATC-TCCGAA\n",
      "||||||||.|| | ||||||\n",
      "ATGGCCCCCAA-CCTCCGAA\n",
      "  Score=17\n",
      "\n",
      "ATGGCCC-CAAATC-TCCGAA\n",
      "||||||| | || | ||||||\n",
      "ATGGCCCCC-AA-CCTCCGAA\n",
      "  Score=17\n",
      "\n",
      "ATGGCC-CCAAATC-TCCGAA\n",
      "|||||| || || | ||||||\n",
      "ATGGCCCCC-AA-CCTCCGAA\n",
      "  Score=17\n",
      "\n",
      "ATGGC-CCCAAATC-TCCGAA\n",
      "||||| ||| || | ||||||\n",
      "ATGGCCCCC-AA-CCTCCGAA\n",
      "  Score=17\n",
      "\n",
      "ATGG-CCCCAAATC-TCCGAA\n",
      "|||| |||| || | ||||||\n",
      "ATGGCCCCC-AA-CCTCCGAA\n",
      "  Score=17\n",
      "\n",
      "ATGGCCCC-AAATC-TCCGAA\n",
      "|||||||| | | | ||||||\n",
      "ATGGCCCCCA-A-CCTCCGAA\n",
      "  Score=17\n",
      "\n",
      "ATGGCCC-CAAATC-TCCGAA\n",
      "||||||| || | | ||||||\n",
      "ATGGCCCCCA-A-CCTCCGAA\n",
      "  Score=17\n",
      "\n",
      "ATGGCC-CCAAATC-TCCGAA\n",
      "|||||| ||| | | ||||||\n",
      "ATGGCCCCCA-A-CCTCCGAA\n",
      "  Score=17\n",
      "\n",
      "ATGGC-CCCAAATC-TCCGAA\n",
      "||||| |||| | | ||||||\n",
      "ATGGCCCCCA-A-CCTCCGAA\n",
      "  Score=17\n",
      "\n",
      "ATGG-CCCCAAATC-TCCGAA\n",
      "|||| ||||| | | ||||||\n",
      "ATGGCCCCCA-A-CCTCCGAA\n",
      "  Score=17\n",
      "\n",
      "ATGGCCCC-AAATC-TCCGAA\n",
      "|||||||| ||  | ||||||\n",
      "ATGGCCCCCAA--CCTCCGAA\n",
      "  Score=17\n",
      "\n",
      "ATGGCCC-CAAATC-TCCGAA\n",
      "||||||| |||  | ||||||\n",
      "ATGGCCCCCAA--CCTCCGAA\n",
      "  Score=17\n",
      "\n",
      "ATGGCC-CCAAATC-TCCGAA\n",
      "|||||| ||||  | ||||||\n",
      "ATGGCCCCCAA--CCTCCGAA\n",
      "  Score=17\n",
      "\n",
      "ATGGC-CCCAAATC-TCCGAA\n",
      "||||| |||||  | ||||||\n",
      "ATGGCCCCCAA--CCTCCGAA\n",
      "  Score=17\n",
      "\n",
      "ATGG-CCCCAAATC-TCCGAA\n",
      "|||| ||||||  | ||||||\n",
      "ATGGCCCCCAA--CCTCCGAA\n",
      "  Score=17\n",
      "\n",
      "ATGGCCCCA-AAT-CTCCGAA\n",
      "||||||||  ||  |||||||\n",
      "ATGGCCCC-CAA-CCTCCGAA\n",
      "  Score=17\n",
      "\n",
      "ATGGCCCCAAAT-CTCCGAA\n",
      "||||||||.||  |||||||\n",
      "ATGGCCCCCAA-CCTCCGAA\n",
      "  Score=17\n",
      "\n",
      "ATGGCCC-CAAAT-CTCCGAA\n",
      "||||||| | ||  |||||||\n",
      "ATGGCCCCC-AA-CCTCCGAA\n",
      "  Score=17\n",
      "\n",
      "ATGGCC-CCAAAT-CTCCGAA\n",
      "|||||| || ||  |||||||\n",
      "ATGGCCCCC-AA-CCTCCGAA\n",
      "  Score=17\n",
      "\n",
      "ATGGC-CCCAAAT-CTCCGAA\n",
      "||||| ||| ||  |||||||\n",
      "ATGGCCCCC-AA-CCTCCGAA\n",
      "  Score=17\n",
      "\n",
      "ATGG-CCCCAAAT-CTCCGAA\n",
      "|||| |||| ||  |||||||\n",
      "ATGGCCCCC-AA-CCTCCGAA\n",
      "  Score=17\n",
      "\n",
      "ATGGCCCC-AAAT-CTCCGAA\n",
      "|||||||| | |  |||||||\n",
      "ATGGCCCCCA-A-CCTCCGAA\n",
      "  Score=17\n",
      "\n",
      "ATGGCCC-CAAAT-CTCCGAA\n",
      "||||||| || |  |||||||\n",
      "ATGGCCCCCA-A-CCTCCGAA\n",
      "  Score=17\n",
      "\n",
      "ATGGCC-CCAAAT-CTCCGAA\n",
      "|||||| ||| |  |||||||\n",
      "ATGGCCCCCA-A-CCTCCGAA\n",
      "  Score=17\n",
      "\n",
      "ATGGC-CCCAAAT-CTCCGAA\n",
      "||||| |||| |  |||||||\n",
      "ATGGCCCCCA-A-CCTCCGAA\n",
      "  Score=17\n",
      "\n",
      "ATGG-CCCCAAAT-CTCCGAA\n",
      "|||| ||||| |  |||||||\n",
      "ATGGCCCCCA-A-CCTCCGAA\n",
      "  Score=17\n",
      "\n",
      "ATGGCCCC-AAAT-CTCCGAA\n",
      "|||||||| ||   |||||||\n",
      "ATGGCCCCCAA--CCTCCGAA\n",
      "  Score=17\n",
      "\n",
      "ATGGCCC-CAAAT-CTCCGAA\n",
      "||||||| |||   |||||||\n",
      "ATGGCCCCCAA--CCTCCGAA\n",
      "  Score=17\n",
      "\n",
      "ATGGCC-CCAAAT-CTCCGAA\n",
      "|||||| ||||   |||||||\n",
      "ATGGCCCCCAA--CCTCCGAA\n",
      "  Score=17\n",
      "\n",
      "ATGGC-CCCAAAT-CTCCGAA\n",
      "||||| |||||   |||||||\n",
      "ATGGCCCCCAA--CCTCCGAA\n",
      "  Score=17\n",
      "\n",
      "ATGG-CCCCAAAT-CTCCGAA\n",
      "|||| ||||||   |||||||\n",
      "ATGGCCCCCAA--CCTCCGAA\n",
      "  Score=17\n",
      "\n",
      "ATGGCCCCA-AATCTCCGAA\n",
      "||||||||  ||.|||||||\n",
      "ATGGCCCC-CAACCTCCGAA\n",
      "  Score=17\n",
      "\n",
      "ATGGCCCCAAATCTCCGAA\n",
      "||||||||.||.|||||||\n",
      "ATGGCCCCCAACCTCCGAA\n",
      "  Score=17\n",
      "\n",
      "ATGGCCC-CAAATCTCCGAA\n",
      "||||||| | ||.|||||||\n",
      "ATGGCCCCC-AACCTCCGAA\n",
      "  Score=17\n",
      "\n",
      "ATGGCC-CCAAATCTCCGAA\n",
      "|||||| || ||.|||||||\n",
      "ATGGCCCCC-AACCTCCGAA\n",
      "  Score=17\n",
      "\n",
      "ATGGC-CCCAAATCTCCGAA\n",
      "||||| ||| ||.|||||||\n",
      "ATGGCCCCC-AACCTCCGAA\n",
      "  Score=17\n",
      "\n",
      "ATGG-CCCCAAATCTCCGAA\n",
      "|||| |||| ||.|||||||\n",
      "ATGGCCCCC-AACCTCCGAA\n",
      "  Score=17\n",
      "\n",
      "ATGGCCCC-AAATCTCCGAA\n",
      "|||||||| | |.|||||||\n",
      "ATGGCCCCCA-ACCTCCGAA\n",
      "  Score=17\n",
      "\n",
      "ATGGCCC-CAAATCTCCGAA\n",
      "||||||| || |.|||||||\n",
      "ATGGCCCCCA-ACCTCCGAA\n",
      "  Score=17\n",
      "\n",
      "ATGGCC-CCAAATCTCCGAA\n",
      "|||||| ||| |.|||||||\n",
      "ATGGCCCCCA-ACCTCCGAA\n",
      "  Score=17\n",
      "\n",
      "ATGGC-CCCAAATCTCCGAA\n",
      "||||| |||| |.|||||||\n",
      "ATGGCCCCCA-ACCTCCGAA\n",
      "  Score=17\n",
      "\n",
      "ATGG-CCCCAAATCTCCGAA\n",
      "|||| ||||| |.|||||||\n",
      "ATGGCCCCCA-ACCTCCGAA\n",
      "  Score=17\n",
      "\n",
      "ATGGCCCC-AAATCTCCGAA\n",
      "|||||||| || .|||||||\n",
      "ATGGCCCCCAA-CCTCCGAA\n",
      "  Score=17\n",
      "\n",
      "ATGGCCC-CAAATCTCCGAA\n",
      "||||||| ||| .|||||||\n",
      "ATGGCCCCCAA-CCTCCGAA\n",
      "  Score=17\n",
      "\n",
      "ATGGCC-CCAAATCTCCGAA\n",
      "|||||| |||| .|||||||\n",
      "ATGGCCCCCAA-CCTCCGAA\n",
      "  Score=17\n",
      "\n",
      "ATGGC-CCCAAATCTCCGAA\n",
      "||||| ||||| .|||||||\n",
      "ATGGCCCCCAA-CCTCCGAA\n",
      "  Score=17\n",
      "\n",
      "ATGG-CCCCAAATCTCCGAA\n",
      "|||| |||||| .|||||||\n",
      "ATGGCCCCCAA-CCTCCGAA\n",
      "  Score=17\n",
      "\n",
      "ATGGCCCC-AAATCTCCGAA\n",
      "|||||||| ||. |||||||\n",
      "ATGGCCCCCAAC-CTCCGAA\n",
      "  Score=17\n",
      "\n",
      "ATGGCCC-CAAATCTCCGAA\n",
      "||||||| |||. |||||||\n",
      "ATGGCCCCCAAC-CTCCGAA\n",
      "  Score=17\n",
      "\n",
      "ATGGCC-CCAAATCTCCGAA\n",
      "|||||| ||||. |||||||\n",
      "ATGGCCCCCAAC-CTCCGAA\n",
      "  Score=17\n",
      "\n",
      "ATGGC-CCCAAATCTCCGAA\n",
      "||||| |||||. |||||||\n",
      "ATGGCCCCCAAC-CTCCGAA\n",
      "  Score=17\n",
      "\n",
      "ATGG-CCCCAAATCTCCGAA\n",
      "|||| ||||||. |||||||\n",
      "ATGGCCCCCAAC-CTCCGAA\n",
      "  Score=17\n",
      "\n"
     ]
    }
   ],
   "source": [
    "#Import the alignment modules from Biopython.\n",
    "from Bio import pairwise2\n",
    "from Bio.pairwise2 import format_alignment\n",
    "# Define two sequences.  It would take up far too much space to do an iterative loop through all the sequences.\n",
    "# Because our sequences are fairly long, we are going to call in the sequences, but then only do an alignment on the first 20\n",
    "# bp of the sequence.\n",
    "AF_seq = cytb_seqs['Aptenodytes forsteri'] # I chose this species because it is the largest.\n",
    "EM_seq = cytb_seqs['Eudyptula minor'] # I chose this species because it is the smallest.\n",
    "AF_seq_part = AF_seq[0:19]\n",
    "EM_seq_part = EM_seq[0:19]\n",
    "# Run a global alignment of the two sequences with no parameters, no gap penalties.\n",
    "alignments = pairwise2.align.localxx(AF_seq_part, EM_seq_part)\n",
    "for a in alignments:\n",
    "    print(format_alignment(*a))\n"
   ]
  },
  {
   "cell_type": "markdown",
   "metadata": {},
   "source": [
    "#### As an alternative, we can also use the protein sequence (or a portion of it) for the alignment."
   ]
  },
  {
   "cell_type": "code",
   "execution_count": 25,
   "metadata": {},
   "outputs": [
    {
     "name": "stdout",
     "output_type": "stream",
     "text": [
      "MAPNLRKSHPLLKMINNSLIDLPTPSNISA-WWNFGSLLGICLT-TQILTG\n",
      "|||||||||||||||||||||||||||||  ||||||||||||  ||||||\n",
      "MAPNLRKSHPLLKMINNSLIDLPTPSNIS-TWWNFGSLLGICL-ITQILTG\n",
      "  Score=47\n",
      "\n",
      "MAPNLRKSHPLLKMINNSLIDLPTPSNISAWWNFGSLLGICLT-TQILTG\n",
      "|||||||||||||||||||||||||||||.||||||||||||  ||||||\n",
      "MAPNLRKSHPLLKMINNSLIDLPTPSNISTWWNFGSLLGICL-ITQILTG\n",
      "  Score=47\n",
      "\n",
      "MAPNLRKSHPLLKMINNSLIDLPTPSNISA-WWNFGSLLGICLTTQILTG\n",
      "|||||||||||||||||||||||||||||  ||||||||||||.||||||\n",
      "MAPNLRKSHPLLKMINNSLIDLPTPSNIS-TWWNFGSLLGICLITQILTG\n",
      "  Score=47\n",
      "\n",
      "MAPNLRKSHPLLKMINNSLIDLPTPSNISAWWNFGSLLGICLTTQILTG\n",
      "|||||||||||||||||||||||||||||.||||||||||||.||||||\n",
      "MAPNLRKSHPLLKMINNSLIDLPTPSNISTWWNFGSLLGICLITQILTG\n",
      "  Score=47\n",
      "\n",
      "MAPNLRKSHPLLKMINNSLIDLPTPSNISA-WWNFGSLLGICL-TTQILTG\n",
      "|||||||||||||||||||||||||||||  |||||||||||| | |||||\n",
      "MAPNLRKSHPLLKMINNSLIDLPTPSNIS-TWWNFGSLLGICLIT-QILTG\n",
      "  Score=47\n",
      "\n",
      "MAPNLRKSHPLLKMINNSLIDLPTPSNISAWWNFGSLLGICL-TTQILTG\n",
      "|||||||||||||||||||||||||||||.|||||||||||| | |||||\n",
      "MAPNLRKSHPLLKMINNSLIDLPTPSNISTWWNFGSLLGICLIT-QILTG\n",
      "  Score=47\n",
      "\n"
     ]
    }
   ],
   "source": [
    "# Obtain our sequences\n",
    "AF_seq = cytb_seqs['Aptenodytes forsteri']\n",
    "EM_seq = cytb_seqs['Eudyptula minor']\n",
    "# Translate them to amino acid sequences\n",
    "AF_aa_seq = alt_translate_function((str(AF_seq)), generic_dna, 2)\n",
    "EM_aa_seq = alt_translate_function((str(EM_seq)), generic_dna, 2)\n",
    "# Shorten the amino acid sequences to the first 50 amino acids for the sake of space.\n",
    "AF_aa_seq_part = AF_aa_seq[0:49]\n",
    "EM_aa_seq_part = EM_aa_seq[0:49]\n",
    "# Run a global alignment of the two sequences with no parameters, no gap penalties.\n",
    "alignments = pairwise2.align.localxx(AF_aa_seq_part, EM_aa_seq_part)\n",
    "for a in alignments:\n",
    "    print(format_alignment(*a))"
   ]
  }
 ],
 "metadata": {
  "kernelspec": {
   "display_name": "Python 3",
   "language": "python",
   "name": "python3"
  },
  "language_info": {
   "codemirror_mode": {
    "name": "ipython",
    "version": 3
   },
   "file_extension": ".py",
   "mimetype": "text/x-python",
   "name": "python",
   "nbconvert_exporter": "python",
   "pygments_lexer": "ipython3",
   "version": "3.7.3"
  }
 },
 "nbformat": 4,
 "nbformat_minor": 2
}
